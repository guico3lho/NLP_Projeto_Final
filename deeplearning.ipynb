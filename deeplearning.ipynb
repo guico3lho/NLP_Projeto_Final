{
  "cells": [
    {
      "cell_type": "markdown",
      "metadata": {
        "id": "view-in-github",
        "colab_type": "text"
      },
      "source": [
        "<a href=\"https://colab.research.google.com/github/guico3lho/NLP_Projeto_Final/blob/main/deeplearning.ipynb\" target=\"_parent\"><img src=\"https://colab.research.google.com/assets/colab-badge.svg\" alt=\"Open In Colab\"/></a>"
      ]
    },
    {
      "cell_type": "code",
      "execution_count": 2,
      "metadata": {
        "colab": {
          "base_uri": "https://localhost:8080/"
        },
        "id": "uZdzk1DAApGH",
        "outputId": "f2c5c374-cd4a-46f0-9101-f80bcc0fbe4b"
      },
      "outputs": [
        {
          "output_type": "stream",
          "name": "stdout",
          "text": [
            "guico3lhoLooking in indexes: https://pypi.org/simple, https://us-python.pkg.dev/colab-wheels/public/simple/\n",
            "Requirement already satisfied: keras in /usr/local/lib/python3.7/dist-packages (2.8.0)\n",
            "Looking in indexes: https://pypi.org/simple, https://us-python.pkg.dev/colab-wheels/public/simple/\n",
            "Requirement already satisfied: tensorflow in /usr/local/lib/python3.7/dist-packages (2.8.2+zzzcolab20220719082949)\n",
            "Requirement already satisfied: keras-preprocessing>=1.1.1 in /usr/local/lib/python3.7/dist-packages (from tensorflow) (1.1.2)\n",
            "Requirement already satisfied: google-pasta>=0.1.1 in /usr/local/lib/python3.7/dist-packages (from tensorflow) (0.2.0)\n",
            "Requirement already satisfied: libclang>=9.0.1 in /usr/local/lib/python3.7/dist-packages (from tensorflow) (14.0.6)\n",
            "Requirement already satisfied: numpy>=1.20 in /usr/local/lib/python3.7/dist-packages (from tensorflow) (1.21.6)\n",
            "Requirement already satisfied: setuptools in /usr/local/lib/python3.7/dist-packages (from tensorflow) (57.4.0)\n",
            "Requirement already satisfied: protobuf<3.20,>=3.9.2 in /usr/local/lib/python3.7/dist-packages (from tensorflow) (3.17.3)\n",
            "Requirement already satisfied: h5py>=2.9.0 in /usr/local/lib/python3.7/dist-packages (from tensorflow) (3.1.0)\n",
            "Requirement already satisfied: wrapt>=1.11.0 in /usr/local/lib/python3.7/dist-packages (from tensorflow) (1.14.1)\n",
            "Requirement already satisfied: absl-py>=0.4.0 in /usr/local/lib/python3.7/dist-packages (from tensorflow) (1.2.0)\n",
            "Requirement already satisfied: tensorflow-io-gcs-filesystem>=0.23.1 in /usr/local/lib/python3.7/dist-packages (from tensorflow) (0.26.0)\n",
            "Requirement already satisfied: tensorboard<2.9,>=2.8 in /usr/local/lib/python3.7/dist-packages (from tensorflow) (2.8.0)\n",
            "Requirement already satisfied: tensorflow-estimator<2.9,>=2.8 in /usr/local/lib/python3.7/dist-packages (from tensorflow) (2.8.0)\n",
            "Requirement already satisfied: typing-extensions>=3.6.6 in /usr/local/lib/python3.7/dist-packages (from tensorflow) (4.1.1)\n",
            "Requirement already satisfied: six>=1.12.0 in /usr/local/lib/python3.7/dist-packages (from tensorflow) (1.15.0)\n",
            "Requirement already satisfied: opt-einsum>=2.3.2 in /usr/local/lib/python3.7/dist-packages (from tensorflow) (3.3.0)\n",
            "Requirement already satisfied: keras<2.9,>=2.8.0rc0 in /usr/local/lib/python3.7/dist-packages (from tensorflow) (2.8.0)\n",
            "Requirement already satisfied: termcolor>=1.1.0 in /usr/local/lib/python3.7/dist-packages (from tensorflow) (1.1.0)\n",
            "Requirement already satisfied: gast>=0.2.1 in /usr/local/lib/python3.7/dist-packages (from tensorflow) (0.5.3)\n",
            "Requirement already satisfied: astunparse>=1.6.0 in /usr/local/lib/python3.7/dist-packages (from tensorflow) (1.6.3)\n",
            "Requirement already satisfied: flatbuffers>=1.12 in /usr/local/lib/python3.7/dist-packages (from tensorflow) (2.0.7)\n",
            "Requirement already satisfied: grpcio<2.0,>=1.24.3 in /usr/local/lib/python3.7/dist-packages (from tensorflow) (1.48.1)\n",
            "Requirement already satisfied: wheel<1.0,>=0.23.0 in /usr/local/lib/python3.7/dist-packages (from astunparse>=1.6.0->tensorflow) (0.37.1)\n",
            "Requirement already satisfied: cached-property in /usr/local/lib/python3.7/dist-packages (from h5py>=2.9.0->tensorflow) (1.5.2)\n",
            "Requirement already satisfied: google-auth<3,>=1.6.3 in /usr/local/lib/python3.7/dist-packages (from tensorboard<2.9,>=2.8->tensorflow) (1.35.0)\n",
            "Requirement already satisfied: markdown>=2.6.8 in /usr/local/lib/python3.7/dist-packages (from tensorboard<2.9,>=2.8->tensorflow) (3.4.1)\n",
            "Requirement already satisfied: requests<3,>=2.21.0 in /usr/local/lib/python3.7/dist-packages (from tensorboard<2.9,>=2.8->tensorflow) (2.23.0)\n",
            "Requirement already satisfied: google-auth-oauthlib<0.5,>=0.4.1 in /usr/local/lib/python3.7/dist-packages (from tensorboard<2.9,>=2.8->tensorflow) (0.4.6)\n",
            "Requirement already satisfied: werkzeug>=0.11.15 in /usr/local/lib/python3.7/dist-packages (from tensorboard<2.9,>=2.8->tensorflow) (1.0.1)\n",
            "Requirement already satisfied: tensorboard-plugin-wit>=1.6.0 in /usr/local/lib/python3.7/dist-packages (from tensorboard<2.9,>=2.8->tensorflow) (1.8.1)\n",
            "Requirement already satisfied: tensorboard-data-server<0.7.0,>=0.6.0 in /usr/local/lib/python3.7/dist-packages (from tensorboard<2.9,>=2.8->tensorflow) (0.6.1)\n",
            "Requirement already satisfied: pyasn1-modules>=0.2.1 in /usr/local/lib/python3.7/dist-packages (from google-auth<3,>=1.6.3->tensorboard<2.9,>=2.8->tensorflow) (0.2.8)\n",
            "Requirement already satisfied: rsa<5,>=3.1.4 in /usr/local/lib/python3.7/dist-packages (from google-auth<3,>=1.6.3->tensorboard<2.9,>=2.8->tensorflow) (4.9)\n",
            "Requirement already satisfied: cachetools<5.0,>=2.0.0 in /usr/local/lib/python3.7/dist-packages (from google-auth<3,>=1.6.3->tensorboard<2.9,>=2.8->tensorflow) (4.2.4)\n",
            "Requirement already satisfied: requests-oauthlib>=0.7.0 in /usr/local/lib/python3.7/dist-packages (from google-auth-oauthlib<0.5,>=0.4.1->tensorboard<2.9,>=2.8->tensorflow) (1.3.1)\n",
            "Requirement already satisfied: importlib-metadata>=4.4 in /usr/local/lib/python3.7/dist-packages (from markdown>=2.6.8->tensorboard<2.9,>=2.8->tensorflow) (4.12.0)\n",
            "Requirement already satisfied: zipp>=0.5 in /usr/local/lib/python3.7/dist-packages (from importlib-metadata>=4.4->markdown>=2.6.8->tensorboard<2.9,>=2.8->tensorflow) (3.8.1)\n",
            "Requirement already satisfied: pyasn1<0.5.0,>=0.4.6 in /usr/local/lib/python3.7/dist-packages (from pyasn1-modules>=0.2.1->google-auth<3,>=1.6.3->tensorboard<2.9,>=2.8->tensorflow) (0.4.8)\n",
            "Requirement already satisfied: idna<3,>=2.5 in /usr/local/lib/python3.7/dist-packages (from requests<3,>=2.21.0->tensorboard<2.9,>=2.8->tensorflow) (2.10)\n",
            "Requirement already satisfied: urllib3!=1.25.0,!=1.25.1,<1.26,>=1.21.1 in /usr/local/lib/python3.7/dist-packages (from requests<3,>=2.21.0->tensorboard<2.9,>=2.8->tensorflow) (1.24.3)\n",
            "Requirement already satisfied: chardet<4,>=3.0.2 in /usr/local/lib/python3.7/dist-packages (from requests<3,>=2.21.0->tensorboard<2.9,>=2.8->tensorflow) (3.0.4)\n",
            "Requirement already satisfied: certifi>=2017.4.17 in /usr/local/lib/python3.7/dist-packages (from requests<3,>=2.21.0->tensorboard<2.9,>=2.8->tensorflow) (2022.6.15)\n",
            "Requirement already satisfied: oauthlib>=3.0.0 in /usr/local/lib/python3.7/dist-packages (from requests-oauthlib>=0.7.0->google-auth-oauthlib<0.5,>=0.4.1->tensorboard<2.9,>=2.8->tensorflow) (3.2.0)\n",
            "Looking in indexes: https://pypi.org/simple, https://us-python.pkg.dev/colab-wheels/public/simple/\n",
            "Requirement already satisfied: opendatasets in /usr/local/lib/python3.7/dist-packages (0.1.22)\n",
            "Requirement already satisfied: tqdm in /usr/local/lib/python3.7/dist-packages (from opendatasets) (4.64.1)\n",
            "Requirement already satisfied: kaggle in /usr/local/lib/python3.7/dist-packages (from opendatasets) (1.5.12)\n",
            "Requirement already satisfied: click in /usr/local/lib/python3.7/dist-packages (from opendatasets) (7.1.2)\n",
            "Requirement already satisfied: six>=1.10 in /usr/local/lib/python3.7/dist-packages (from kaggle->opendatasets) (1.15.0)\n",
            "Requirement already satisfied: certifi in /usr/local/lib/python3.7/dist-packages (from kaggle->opendatasets) (2022.6.15)\n",
            "Requirement already satisfied: python-dateutil in /usr/local/lib/python3.7/dist-packages (from kaggle->opendatasets) (2.8.2)\n",
            "Requirement already satisfied: urllib3 in /usr/local/lib/python3.7/dist-packages (from kaggle->opendatasets) (1.24.3)\n",
            "Requirement already satisfied: python-slugify in /usr/local/lib/python3.7/dist-packages (from kaggle->opendatasets) (6.1.2)\n",
            "Requirement already satisfied: requests in /usr/local/lib/python3.7/dist-packages (from kaggle->opendatasets) (2.23.0)\n",
            "Requirement already satisfied: text-unidecode>=1.3 in /usr/local/lib/python3.7/dist-packages (from python-slugify->kaggle->opendatasets) (1.3)\n",
            "Requirement already satisfied: chardet<4,>=3.0.2 in /usr/local/lib/python3.7/dist-packages (from requests->kaggle->opendatasets) (3.0.4)\n",
            "Requirement already satisfied: idna<3,>=2.5 in /usr/local/lib/python3.7/dist-packages (from requests->kaggle->opendatasets) (2.10)\n"
          ]
        }
      ],
      "source": [
        "!pip install keras\n",
        "!pip install tensorflow\n",
        "!pip install opendatasets\n"
      ]
    },
    {
      "cell_type": "code",
      "execution_count": 3,
      "metadata": {
        "id": "K4mS8K9b_wYX"
      },
      "outputs": [],
      "source": [
        "import pandas as pd\n",
        "import re\n",
        "import opendatasets as od\n",
        "from tensorflow.keras.utils import to_categorical\n",
        "from sklearn.model_selection import train_test_split\n",
        "import numpy as np\n",
        "from sklearn.metrics import classification_report\n",
        "from sklearn.metrics import confusion_matrix\n",
        "# objetivo é eu prever o valor de uma ação com base nas noticias\n",
        "# cada endereço vai receber 25 noticias concatenadas e cada encereço corresponde a uma data\n",
        "# corresponde a um registro\n"
      ]
    },
    {
      "cell_type": "code",
      "execution_count": 4,
      "metadata": {
        "id": "3CGH5oLeANCB"
      },
      "outputs": [],
      "source": [
        "#%% Functions\n",
        "def normalizarStringStockHeadlines(text):\n",
        "    import unicodedata\n",
        "\n",
        "    text = text.lower()\n",
        "    text = re.sub(r'[\\\\\\']', '', text)\n",
        "    # text = re.sub(\"r'\\'\\''), '', text)\"\n",
        "    # remove b' from the text\n",
        "\n",
        "    return text"
      ]
    },
    {
      "cell_type": "code",
      "execution_count": 5,
      "metadata": {
        "colab": {
          "base_uri": "https://localhost:8080/"
        },
        "id": "PSEtcpsiAOEA",
        "outputId": "495dcf92-471b-4630-c175-92991a0a0c24"
      },
      "outputs": [
        {
          "output_type": "stream",
          "name": "stdout",
          "text": [
            "Please provide your Kaggle credentials to download this dataset. Learn more: http://bit.ly/kaggle-creds\n",
            "Your Kaggle username: guico3lho\n",
            "Your Kaggle Key: ··········\n",
            "Downloading stock-headlines.zip to ./stock-headlines\n"
          ]
        },
        {
          "output_type": "stream",
          "name": "stderr",
          "text": [
            "100%|██████████| 3.18M/3.18M [00:00<00:00, 188MB/s]"
          ]
        },
        {
          "output_type": "stream",
          "name": "stdout",
          "text": [
            "\n"
          ]
        },
        {
          "output_type": "stream",
          "name": "stderr",
          "text": [
            "\n"
          ]
        }
      ],
      "source": [
        "#%% Importing the data\n",
        "od.download(\"https://www.kaggle.com/datasets/lykin22/stock-headlines\")\n",
        "\n"
      ]
    },
    {
      "cell_type": "code",
      "execution_count": 6,
      "metadata": {
        "id": "V21tzmh-BnXS"
      },
      "outputs": [],
      "source": [
        "df_raw = pd.read_csv('/content/stock-headlines/Stock Headlines.csv', encoding='ISO-8859-1')\n",
        "df = df_raw.copy()"
      ]
    },
    {
      "cell_type": "code",
      "execution_count": 7,
      "metadata": {
        "id": "9oMceKbaAPbX"
      },
      "outputs": [],
      "source": [
        "#%% Dropping NaN values\n",
        "\n",
        "df.dropna(inplace=True)\n",
        "\n",
        "df.reset_index(inplace=True)"
      ]
    },
    {
      "cell_type": "code",
      "execution_count": 8,
      "metadata": {
        "id": "O4KoAbOWARnP"
      },
      "outputs": [],
      "source": [
        "#%% Concatenating all the news of a specific day to a single column\n",
        "\n",
        "headlines = []\n",
        "for i in range(0,len(df)):\n",
        "        headlines.append(' '.join(str(x) for x in df.iloc[i,3:]))\n",
        "        ...\n",
        "\n",
        "df['Headlines'] = headlines"
      ]
    },
    {
      "cell_type": "code",
      "execution_count": 9,
      "metadata": {
        "id": "yTBfEEzWAXJG"
      },
      "outputs": [],
      "source": [
        "#%% Normalizing the text\n",
        "df['Headlines'] = df['Headlines'].apply(lambda x: normalizarStringStockHeadlines(x))"
      ]
    },
    {
      "cell_type": "code",
      "execution_count": 10,
      "metadata": {
        "id": "OuorCiQDAYKQ"
      },
      "outputs": [],
      "source": [
        "#%% Selecting columns for the model\n",
        "df = df[['Label','Headlines']]"
      ]
    },
    {
      "cell_type": "code",
      "execution_count": 11,
      "metadata": {
        "id": "0JcnhD4BAZF4",
        "colab": {
          "base_uri": "https://localhost:8080/"
        },
        "outputId": "adcb8455-a316-43a0-ec53-463a9856f1db"
      },
      "outputs": [
        {
          "output_type": "execute_result",
          "data": {
            "text/plain": [
              "Ellipsis"
            ]
          },
          "metadata": {},
          "execution_count": 11
        }
      ],
      "source": [
        "#%% Splitting the data\n",
        "df_train,df_test = train_test_split(df, test_size=0.3, random_state=42)\n",
        "\n",
        "df_train, df_valid = train_test_split(df_train, test_size=0.2, random_state=42)\n",
        "...\n"
      ]
    },
    {
      "cell_type": "code",
      "execution_count": 12,
      "metadata": {
        "id": "gsI39B_aAaPY"
      },
      "outputs": [],
      "source": [
        "# categorizing the labels\n",
        "df_train['Label'] = pd.Categorical(df_train['Label'])\n",
        "\n",
        "y_train_int = df_train['Label'].cat.codes\n",
        "\n",
        "df_valid['Label'] = pd.Categorical(df_valid['Label'])\n",
        "\n",
        "y_valid_int = df_valid['Label'].cat.codes\n",
        "\n",
        "df_test['Label'] = pd.Categorical(df_test['Label'])\n",
        "y_test_int = df_test['Label'].cat.codes\n",
        "\n",
        "y_train = to_categorical(y_train_int)\n",
        "y_valid = to_categorical(y_valid_int)\n",
        "y_test = to_categorical(y_test_int)\n",
        "\n",
        "\n"
      ]
    },
    {
      "cell_type": "code",
      "execution_count": 13,
      "metadata": {
        "id": "muuac4iYRt8w"
      },
      "outputs": [],
      "source": [
        "# y_train = df_train['Label'].to_numpy()\n",
        "# y_valid = df_valid['Label'].to_numpy()\n",
        "# y_test = df_test['Label'].to_numpy()\n"
      ]
    },
    {
      "cell_type": "code",
      "execution_count": 14,
      "metadata": {
        "id": "w0Qdm7fNAcP2"
      },
      "outputs": [],
      "source": [
        "\n",
        "#%% Creating vocabular\n",
        "vocabulary = {}\n",
        "for i in range(0,len(df_train)):\n",
        "    for word in df_train.iloc[i,1].split():\n",
        "        if word not in vocabulary:\n",
        "            vocabulary[word] = 1\n",
        "        else:\n",
        "            vocabulary[word] += 1\n",
        "\n",
        "vocab_size = len(vocabulary)"
      ]
    },
    {
      "cell_type": "code",
      "execution_count": 15,
      "metadata": {
        "id": "O1Uh5sAaE1ip",
        "colab": {
          "base_uri": "https://localhost:8080/",
          "height": 424
        },
        "outputId": "c45ca0e9-540b-4980-a597-8af15fbafef3"
      },
      "outputs": [
        {
          "output_type": "execute_result",
          "data": {
            "text/plain": [
              "     Label                                          Headlines\n",
              "3920     1  japan furious at unesco listing nanjing massac...\n",
              "4095     1  explosion at airport in istanbul yemeni former...\n",
              "664      0  review: the wreck of the abergavenny by alethe...\n",
              "3383     0  david cameron loses syria vote in commons docu...\n",
              "2809     1  as the japanese government and tepco struggle ...\n",
              "...    ...                                                ...\n",
              "333      1  ipswich 2 - 1 man city comment: whitehall voic...\n",
              "1547     1  eu protests at start of ethiopian treason tria...\n",
              "3876     1  gps trackers in fake elephant tusks reveal ivo...\n",
              "2754     0  anonymous open letter to the world [time to ma...\n",
              "380      1  inflation steady despite rising food prices cl...\n",
              "\n",
              "[2294 rows x 2 columns]"
            ],
            "text/html": [
              "\n",
              "  <div id=\"df-c7e98a30-f242-4b5c-bbae-0891bc21181b\">\n",
              "    <div class=\"colab-df-container\">\n",
              "      <div>\n",
              "<style scoped>\n",
              "    .dataframe tbody tr th:only-of-type {\n",
              "        vertical-align: middle;\n",
              "    }\n",
              "\n",
              "    .dataframe tbody tr th {\n",
              "        vertical-align: top;\n",
              "    }\n",
              "\n",
              "    .dataframe thead th {\n",
              "        text-align: right;\n",
              "    }\n",
              "</style>\n",
              "<table border=\"1\" class=\"dataframe\">\n",
              "  <thead>\n",
              "    <tr style=\"text-align: right;\">\n",
              "      <th></th>\n",
              "      <th>Label</th>\n",
              "      <th>Headlines</th>\n",
              "    </tr>\n",
              "  </thead>\n",
              "  <tbody>\n",
              "    <tr>\n",
              "      <th>3920</th>\n",
              "      <td>1</td>\n",
              "      <td>japan furious at unesco listing nanjing massac...</td>\n",
              "    </tr>\n",
              "    <tr>\n",
              "      <th>4095</th>\n",
              "      <td>1</td>\n",
              "      <td>explosion at airport in istanbul yemeni former...</td>\n",
              "    </tr>\n",
              "    <tr>\n",
              "      <th>664</th>\n",
              "      <td>0</td>\n",
              "      <td>review: the wreck of the abergavenny by alethe...</td>\n",
              "    </tr>\n",
              "    <tr>\n",
              "      <th>3383</th>\n",
              "      <td>0</td>\n",
              "      <td>david cameron loses syria vote in commons docu...</td>\n",
              "    </tr>\n",
              "    <tr>\n",
              "      <th>2809</th>\n",
              "      <td>1</td>\n",
              "      <td>as the japanese government and tepco struggle ...</td>\n",
              "    </tr>\n",
              "    <tr>\n",
              "      <th>...</th>\n",
              "      <td>...</td>\n",
              "      <td>...</td>\n",
              "    </tr>\n",
              "    <tr>\n",
              "      <th>333</th>\n",
              "      <td>1</td>\n",
              "      <td>ipswich 2 - 1 man city comment: whitehall voic...</td>\n",
              "    </tr>\n",
              "    <tr>\n",
              "      <th>1547</th>\n",
              "      <td>1</td>\n",
              "      <td>eu protests at start of ethiopian treason tria...</td>\n",
              "    </tr>\n",
              "    <tr>\n",
              "      <th>3876</th>\n",
              "      <td>1</td>\n",
              "      <td>gps trackers in fake elephant tusks reveal ivo...</td>\n",
              "    </tr>\n",
              "    <tr>\n",
              "      <th>2754</th>\n",
              "      <td>0</td>\n",
              "      <td>anonymous open letter to the world [time to ma...</td>\n",
              "    </tr>\n",
              "    <tr>\n",
              "      <th>380</th>\n",
              "      <td>1</td>\n",
              "      <td>inflation steady despite rising food prices cl...</td>\n",
              "    </tr>\n",
              "  </tbody>\n",
              "</table>\n",
              "<p>2294 rows × 2 columns</p>\n",
              "</div>\n",
              "      <button class=\"colab-df-convert\" onclick=\"convertToInteractive('df-c7e98a30-f242-4b5c-bbae-0891bc21181b')\"\n",
              "              title=\"Convert this dataframe to an interactive table.\"\n",
              "              style=\"display:none;\">\n",
              "        \n",
              "  <svg xmlns=\"http://www.w3.org/2000/svg\" height=\"24px\"viewBox=\"0 0 24 24\"\n",
              "       width=\"24px\">\n",
              "    <path d=\"M0 0h24v24H0V0z\" fill=\"none\"/>\n",
              "    <path d=\"M18.56 5.44l.94 2.06.94-2.06 2.06-.94-2.06-.94-.94-2.06-.94 2.06-2.06.94zm-11 1L8.5 8.5l.94-2.06 2.06-.94-2.06-.94L8.5 2.5l-.94 2.06-2.06.94zm10 10l.94 2.06.94-2.06 2.06-.94-2.06-.94-.94-2.06-.94 2.06-2.06.94z\"/><path d=\"M17.41 7.96l-1.37-1.37c-.4-.4-.92-.59-1.43-.59-.52 0-1.04.2-1.43.59L10.3 9.45l-7.72 7.72c-.78.78-.78 2.05 0 2.83L4 21.41c.39.39.9.59 1.41.59.51 0 1.02-.2 1.41-.59l7.78-7.78 2.81-2.81c.8-.78.8-2.07 0-2.86zM5.41 20L4 18.59l7.72-7.72 1.47 1.35L5.41 20z\"/>\n",
              "  </svg>\n",
              "      </button>\n",
              "      \n",
              "  <style>\n",
              "    .colab-df-container {\n",
              "      display:flex;\n",
              "      flex-wrap:wrap;\n",
              "      gap: 12px;\n",
              "    }\n",
              "\n",
              "    .colab-df-convert {\n",
              "      background-color: #E8F0FE;\n",
              "      border: none;\n",
              "      border-radius: 50%;\n",
              "      cursor: pointer;\n",
              "      display: none;\n",
              "      fill: #1967D2;\n",
              "      height: 32px;\n",
              "      padding: 0 0 0 0;\n",
              "      width: 32px;\n",
              "    }\n",
              "\n",
              "    .colab-df-convert:hover {\n",
              "      background-color: #E2EBFA;\n",
              "      box-shadow: 0px 1px 2px rgba(60, 64, 67, 0.3), 0px 1px 3px 1px rgba(60, 64, 67, 0.15);\n",
              "      fill: #174EA6;\n",
              "    }\n",
              "\n",
              "    [theme=dark] .colab-df-convert {\n",
              "      background-color: #3B4455;\n",
              "      fill: #D2E3FC;\n",
              "    }\n",
              "\n",
              "    [theme=dark] .colab-df-convert:hover {\n",
              "      background-color: #434B5C;\n",
              "      box-shadow: 0px 1px 3px 1px rgba(0, 0, 0, 0.15);\n",
              "      filter: drop-shadow(0px 1px 2px rgba(0, 0, 0, 0.3));\n",
              "      fill: #FFFFFF;\n",
              "    }\n",
              "  </style>\n",
              "\n",
              "      <script>\n",
              "        const buttonEl =\n",
              "          document.querySelector('#df-c7e98a30-f242-4b5c-bbae-0891bc21181b button.colab-df-convert');\n",
              "        buttonEl.style.display =\n",
              "          google.colab.kernel.accessAllowed ? 'block' : 'none';\n",
              "\n",
              "        async function convertToInteractive(key) {\n",
              "          const element = document.querySelector('#df-c7e98a30-f242-4b5c-bbae-0891bc21181b');\n",
              "          const dataTable =\n",
              "            await google.colab.kernel.invokeFunction('convertToInteractive',\n",
              "                                                     [key], {});\n",
              "          if (!dataTable) return;\n",
              "\n",
              "          const docLinkHtml = 'Like what you see? Visit the ' +\n",
              "            '<a target=\"_blank\" href=https://colab.research.google.com/notebooks/data_table.ipynb>data table notebook</a>'\n",
              "            + ' to learn more about interactive tables.';\n",
              "          element.innerHTML = '';\n",
              "          dataTable['output_type'] = 'display_data';\n",
              "          await google.colab.output.renderOutput(dataTable, element);\n",
              "          const docLink = document.createElement('div');\n",
              "          docLink.innerHTML = docLinkHtml;\n",
              "          element.appendChild(docLink);\n",
              "        }\n",
              "      </script>\n",
              "    </div>\n",
              "  </div>\n",
              "  "
            ]
          },
          "metadata": {},
          "execution_count": 15
        }
      ],
      "source": [
        "df_train"
      ]
    },
    {
      "cell_type": "code",
      "execution_count": 16,
      "metadata": {
        "id": "hYnJMvgJAdfe"
      },
      "outputs": [],
      "source": [
        "#%% Tokenizing the text\n",
        "\n",
        "from keras.preprocessing.text import Tokenizer\n",
        "from keras_preprocessing.sequence import pad_sequences\n",
        "\n",
        "# why num_words? with or without it does not matter\n",
        "\n",
        "# why pad_sequences not imported?\n",
        "tokenizer = Tokenizer(num_words=len(vocabulary))\n",
        "tokenizer.fit_on_texts(df_train['Headlines'])\n",
        "word2index = tokenizer.word_index\n"
      ]
    },
    {
      "cell_type": "code",
      "execution_count": 17,
      "metadata": {
        "id": "-_rtqmFmAgPI",
        "colab": {
          "base_uri": "https://localhost:8080/"
        },
        "outputId": "c1e42efa-3687-4e4f-df44-a1f35f219d15"
      },
      "outputs": [
        {
          "output_type": "stream",
          "name": "stdout",
          "text": [
            "maxlen: 655\n"
          ]
        }
      ],
      "source": [
        "# convert each sentence to a list of their respective word indexes\n",
        "train_sequences = tokenizer.texts_to_sequences(df_train['Headlines'])\n",
        "valid_sequences = tokenizer.texts_to_sequences(df_valid['Headlines'])\n",
        "test_sequences = tokenizer.texts_to_sequences(df_test['Headlines'])\n",
        "\n",
        "max_len = len(train_sequences[0])\n",
        "for train,valid,test in zip(train_sequences,valid_sequences,test_sequences):\n",
        "    if max(len(train),len(valid),len(test)) > max_len:\n",
        "        max_len = max(len(train),len(valid),len(test))\n",
        "\n",
        "print(\"maxlen:\",max_len)\n",
        "\n",
        "trunc_type = 'post'\n",
        "padding_type = 'post'\n",
        "max_len = 731\n",
        "\n",
        "train_padded = pad_sequences(train_sequences, maxlen=max_len, padding=padding_type, truncating=trunc_type)\n",
        "valid_padded = pad_sequences(valid_sequences, maxlen=max_len, padding=padding_type, truncating=trunc_type)\n",
        "test_padded = pad_sequences(test_sequences, maxlen=max_len, padding=padding_type, truncating=trunc_type)\n"
      ]
    },
    {
      "cell_type": "code",
      "execution_count": 18,
      "metadata": {
        "id": "4OZM3I5IGfRQ",
        "colab": {
          "base_uri": "https://localhost:8080/",
          "height": 424
        },
        "outputId": "2045099f-89a6-461f-904d-ae1cb439947e"
      },
      "outputs": [
        {
          "output_type": "execute_result",
          "data": {
            "text/plain": [
              "      Label                                          Headlines\n",
              "0         0  a hindrance to operations: extracts from the l...\n",
              "1         0  scorecard the best lake scene leader: german s...\n",
              "2         0  coventry caught on counter by flo uniteds riva...\n",
              "3         1  pilgrim knows how to progress thatcher facing ...\n",
              "4         1  hitches and horlocks beckham off but united su...\n",
              "...     ...                                                ...\n",
              "4093      0  barclays and rbs shares suspended from trading...\n",
              "4094      1  2,500 scientists to australia: if you want to ...\n",
              "4095      1  explosion at airport in istanbul yemeni former...\n",
              "4096      1  jamaica proposes marijuana dispensers for tour...\n",
              "4097      1  a 117-year-old woman in mexico city finally re...\n",
              "\n",
              "[4098 rows x 2 columns]"
            ],
            "text/html": [
              "\n",
              "  <div id=\"df-3007858f-f464-4c4c-805e-035d42c6a244\">\n",
              "    <div class=\"colab-df-container\">\n",
              "      <div>\n",
              "<style scoped>\n",
              "    .dataframe tbody tr th:only-of-type {\n",
              "        vertical-align: middle;\n",
              "    }\n",
              "\n",
              "    .dataframe tbody tr th {\n",
              "        vertical-align: top;\n",
              "    }\n",
              "\n",
              "    .dataframe thead th {\n",
              "        text-align: right;\n",
              "    }\n",
              "</style>\n",
              "<table border=\"1\" class=\"dataframe\">\n",
              "  <thead>\n",
              "    <tr style=\"text-align: right;\">\n",
              "      <th></th>\n",
              "      <th>Label</th>\n",
              "      <th>Headlines</th>\n",
              "    </tr>\n",
              "  </thead>\n",
              "  <tbody>\n",
              "    <tr>\n",
              "      <th>0</th>\n",
              "      <td>0</td>\n",
              "      <td>a hindrance to operations: extracts from the l...</td>\n",
              "    </tr>\n",
              "    <tr>\n",
              "      <th>1</th>\n",
              "      <td>0</td>\n",
              "      <td>scorecard the best lake scene leader: german s...</td>\n",
              "    </tr>\n",
              "    <tr>\n",
              "      <th>2</th>\n",
              "      <td>0</td>\n",
              "      <td>coventry caught on counter by flo uniteds riva...</td>\n",
              "    </tr>\n",
              "    <tr>\n",
              "      <th>3</th>\n",
              "      <td>1</td>\n",
              "      <td>pilgrim knows how to progress thatcher facing ...</td>\n",
              "    </tr>\n",
              "    <tr>\n",
              "      <th>4</th>\n",
              "      <td>1</td>\n",
              "      <td>hitches and horlocks beckham off but united su...</td>\n",
              "    </tr>\n",
              "    <tr>\n",
              "      <th>...</th>\n",
              "      <td>...</td>\n",
              "      <td>...</td>\n",
              "    </tr>\n",
              "    <tr>\n",
              "      <th>4093</th>\n",
              "      <td>0</td>\n",
              "      <td>barclays and rbs shares suspended from trading...</td>\n",
              "    </tr>\n",
              "    <tr>\n",
              "      <th>4094</th>\n",
              "      <td>1</td>\n",
              "      <td>2,500 scientists to australia: if you want to ...</td>\n",
              "    </tr>\n",
              "    <tr>\n",
              "      <th>4095</th>\n",
              "      <td>1</td>\n",
              "      <td>explosion at airport in istanbul yemeni former...</td>\n",
              "    </tr>\n",
              "    <tr>\n",
              "      <th>4096</th>\n",
              "      <td>1</td>\n",
              "      <td>jamaica proposes marijuana dispensers for tour...</td>\n",
              "    </tr>\n",
              "    <tr>\n",
              "      <th>4097</th>\n",
              "      <td>1</td>\n",
              "      <td>a 117-year-old woman in mexico city finally re...</td>\n",
              "    </tr>\n",
              "  </tbody>\n",
              "</table>\n",
              "<p>4098 rows × 2 columns</p>\n",
              "</div>\n",
              "      <button class=\"colab-df-convert\" onclick=\"convertToInteractive('df-3007858f-f464-4c4c-805e-035d42c6a244')\"\n",
              "              title=\"Convert this dataframe to an interactive table.\"\n",
              "              style=\"display:none;\">\n",
              "        \n",
              "  <svg xmlns=\"http://www.w3.org/2000/svg\" height=\"24px\"viewBox=\"0 0 24 24\"\n",
              "       width=\"24px\">\n",
              "    <path d=\"M0 0h24v24H0V0z\" fill=\"none\"/>\n",
              "    <path d=\"M18.56 5.44l.94 2.06.94-2.06 2.06-.94-2.06-.94-.94-2.06-.94 2.06-2.06.94zm-11 1L8.5 8.5l.94-2.06 2.06-.94-2.06-.94L8.5 2.5l-.94 2.06-2.06.94zm10 10l.94 2.06.94-2.06 2.06-.94-2.06-.94-.94-2.06-.94 2.06-2.06.94z\"/><path d=\"M17.41 7.96l-1.37-1.37c-.4-.4-.92-.59-1.43-.59-.52 0-1.04.2-1.43.59L10.3 9.45l-7.72 7.72c-.78.78-.78 2.05 0 2.83L4 21.41c.39.39.9.59 1.41.59.51 0 1.02-.2 1.41-.59l7.78-7.78 2.81-2.81c.8-.78.8-2.07 0-2.86zM5.41 20L4 18.59l7.72-7.72 1.47 1.35L5.41 20z\"/>\n",
              "  </svg>\n",
              "      </button>\n",
              "      \n",
              "  <style>\n",
              "    .colab-df-container {\n",
              "      display:flex;\n",
              "      flex-wrap:wrap;\n",
              "      gap: 12px;\n",
              "    }\n",
              "\n",
              "    .colab-df-convert {\n",
              "      background-color: #E8F0FE;\n",
              "      border: none;\n",
              "      border-radius: 50%;\n",
              "      cursor: pointer;\n",
              "      display: none;\n",
              "      fill: #1967D2;\n",
              "      height: 32px;\n",
              "      padding: 0 0 0 0;\n",
              "      width: 32px;\n",
              "    }\n",
              "\n",
              "    .colab-df-convert:hover {\n",
              "      background-color: #E2EBFA;\n",
              "      box-shadow: 0px 1px 2px rgba(60, 64, 67, 0.3), 0px 1px 3px 1px rgba(60, 64, 67, 0.15);\n",
              "      fill: #174EA6;\n",
              "    }\n",
              "\n",
              "    [theme=dark] .colab-df-convert {\n",
              "      background-color: #3B4455;\n",
              "      fill: #D2E3FC;\n",
              "    }\n",
              "\n",
              "    [theme=dark] .colab-df-convert:hover {\n",
              "      background-color: #434B5C;\n",
              "      box-shadow: 0px 1px 3px 1px rgba(0, 0, 0, 0.15);\n",
              "      filter: drop-shadow(0px 1px 2px rgba(0, 0, 0, 0.3));\n",
              "      fill: #FFFFFF;\n",
              "    }\n",
              "  </style>\n",
              "\n",
              "      <script>\n",
              "        const buttonEl =\n",
              "          document.querySelector('#df-3007858f-f464-4c4c-805e-035d42c6a244 button.colab-df-convert');\n",
              "        buttonEl.style.display =\n",
              "          google.colab.kernel.accessAllowed ? 'block' : 'none';\n",
              "\n",
              "        async function convertToInteractive(key) {\n",
              "          const element = document.querySelector('#df-3007858f-f464-4c4c-805e-035d42c6a244');\n",
              "          const dataTable =\n",
              "            await google.colab.kernel.invokeFunction('convertToInteractive',\n",
              "                                                     [key], {});\n",
              "          if (!dataTable) return;\n",
              "\n",
              "          const docLinkHtml = 'Like what you see? Visit the ' +\n",
              "            '<a target=\"_blank\" href=https://colab.research.google.com/notebooks/data_table.ipynb>data table notebook</a>'\n",
              "            + ' to learn more about interactive tables.';\n",
              "          element.innerHTML = '';\n",
              "          dataTable['output_type'] = 'display_data';\n",
              "          await google.colab.output.renderOutput(dataTable, element);\n",
              "          const docLink = document.createElement('div');\n",
              "          docLink.innerHTML = docLinkHtml;\n",
              "          element.appendChild(docLink);\n",
              "        }\n",
              "      </script>\n",
              "    </div>\n",
              "  </div>\n",
              "  "
            ]
          },
          "metadata": {},
          "execution_count": 18
        }
      ],
      "source": [
        "df"
      ]
    },
    {
      "cell_type": "code",
      "execution_count": 19,
      "metadata": {
        "id": "FyY1JQvDAh_u",
        "colab": {
          "base_uri": "https://localhost:8080/"
        },
        "outputId": "d2225fa5-8bd9-4da5-8416-630ddd4cbc39"
      },
      "outputs": [
        {
          "output_type": "stream",
          "name": "stdout",
          "text": [
            "Model: \"sequential\"\n",
            "_________________________________________________________________\n",
            " Layer (type)                Output Shape              Param #   \n",
            "=================================================================\n",
            " embedding (Embedding)       (None, 731, 731)          48531821  \n",
            "                                                                 \n",
            " lstm (LSTM)                 (None, 731, 256)          1011712   \n",
            "                                                                 \n",
            " lstm_1 (LSTM)               (None, 128)               197120    \n",
            "                                                                 \n",
            " dense (Dense)               (None, 128)               16512     \n",
            "                                                                 \n",
            " dense_1 (Dense)             (None, 64)                8256      \n",
            "                                                                 \n",
            " dense_2 (Dense)             (None, 32)                2080      \n",
            "                                                                 \n",
            " dense_3 (Dense)             (None, 2)                 66        \n",
            "                                                                 \n",
            "=================================================================\n",
            "Total params: 49,767,567\n",
            "Trainable params: 49,767,567\n",
            "Non-trainable params: 0\n",
            "_________________________________________________________________\n"
          ]
        },
        {
          "output_type": "execute_result",
          "data": {
            "text/plain": [
              "Ellipsis"
            ]
          },
          "metadata": {},
          "execution_count": 19
        }
      ],
      "source": [
        "#%% Creating the model\n",
        "from keras.models import Sequential\n",
        "from keras.layers import Dense, Embedding, SimpleRNN, Dropout,LSTM,Bidirectional\n",
        "from tensorflow.keras.optimizers import SGD\n",
        "\n",
        "model = Sequential()\n",
        "model.add(Embedding(vocab_size, output_dim=max_len, input_length=max_len))\n",
        "model.add(LSTM(256,return_sequences=True))\n",
        "model.add(LSTM(128))\n",
        "# model.add(Dropout(0.5))\n",
        "model.add(Dense(128,activation='relu'))\n",
        "model.add(Dense(64, activation='relu'))\n",
        "model.add(Dense(32,activation='relu'))\n",
        "model.add(Dense(2, activation='softmax'))\n",
        "\n",
        "\n",
        "\n",
        "model.summary()\n",
        "\n",
        "\n",
        "..."
      ]
    },
    {
      "cell_type": "code",
      "execution_count": 20,
      "metadata": {
        "id": "5fUJvszgUJWs"
      },
      "outputs": [],
      "source": [
        "# model = Sequential()\n",
        "# model.add(Dense(output_dim = 500, input_dim = max_len, activation= \"relu\"))\n",
        "# model.add(Dense(activation = \"relu\"))\n",
        "# model.add(Dense(activation = \"relu\"))\n",
        "# model.add(Dense(1, activation = \"sigmoid\"))\n",
        "# model.summary()"
      ]
    },
    {
      "cell_type": "code",
      "execution_count": 21,
      "metadata": {
        "id": "Ewkjdr46FU3R",
        "colab": {
          "base_uri": "https://localhost:8080/"
        },
        "outputId": "ef4d3ea8-14ed-4af3-ae0b-52d3213d8fa2"
      },
      "outputs": [
        {
          "output_type": "stream",
          "name": "stdout",
          "text": [
            "Epoch 1/30\n",
            "72/72 [==============================] - 16s 119ms/step - loss: 0.6928 - accuracy: 0.5366 - val_loss: 0.6929 - val_accuracy: 0.5226\n",
            "Epoch 2/30\n",
            "72/72 [==============================] - 7s 97ms/step - loss: 0.6928 - accuracy: 0.5366 - val_loss: 0.6929 - val_accuracy: 0.5226\n",
            "Epoch 3/30\n",
            "72/72 [==============================] - 7s 97ms/step - loss: 0.6927 - accuracy: 0.5366 - val_loss: 0.6929 - val_accuracy: 0.5226\n",
            "Epoch 4/30\n",
            "72/72 [==============================] - 8s 105ms/step - loss: 0.6927 - accuracy: 0.5366 - val_loss: 0.6929 - val_accuracy: 0.5226\n",
            "Epoch 5/30\n",
            "72/72 [==============================] - 7s 99ms/step - loss: 0.6926 - accuracy: 0.5366 - val_loss: 0.6928 - val_accuracy: 0.5226\n",
            "Epoch 6/30\n",
            "72/72 [==============================] - 7s 99ms/step - loss: 0.6926 - accuracy: 0.5366 - val_loss: 0.6928 - val_accuracy: 0.5226\n",
            "Epoch 7/30\n",
            "72/72 [==============================] - 7s 100ms/step - loss: 0.6926 - accuracy: 0.5366 - val_loss: 0.6928 - val_accuracy: 0.5226\n",
            "Epoch 8/30\n",
            "72/72 [==============================] - 7s 100ms/step - loss: 0.6925 - accuracy: 0.5366 - val_loss: 0.6928 - val_accuracy: 0.5226\n",
            "Epoch 9/30\n",
            "72/72 [==============================] - 7s 101ms/step - loss: 0.6925 - accuracy: 0.5366 - val_loss: 0.6927 - val_accuracy: 0.5226\n",
            "Epoch 10/30\n",
            "72/72 [==============================] - 7s 101ms/step - loss: 0.6925 - accuracy: 0.5366 - val_loss: 0.6927 - val_accuracy: 0.5226\n",
            "Epoch 11/30\n",
            "72/72 [==============================] - 7s 101ms/step - loss: 0.6924 - accuracy: 0.5366 - val_loss: 0.6927 - val_accuracy: 0.5226\n",
            "Epoch 12/30\n",
            "72/72 [==============================] - 7s 102ms/step - loss: 0.6924 - accuracy: 0.5366 - val_loss: 0.6927 - val_accuracy: 0.5226\n",
            "Epoch 13/30\n",
            "72/72 [==============================] - 7s 103ms/step - loss: 0.6924 - accuracy: 0.5366 - val_loss: 0.6927 - val_accuracy: 0.5226\n",
            "Epoch 14/30\n",
            "72/72 [==============================] - 7s 103ms/step - loss: 0.6923 - accuracy: 0.5366 - val_loss: 0.6927 - val_accuracy: 0.5226\n",
            "Epoch 15/30\n",
            "72/72 [==============================] - 7s 103ms/step - loss: 0.6923 - accuracy: 0.5366 - val_loss: 0.6926 - val_accuracy: 0.5226\n",
            "Epoch 16/30\n",
            "72/72 [==============================] - 7s 103ms/step - loss: 0.6923 - accuracy: 0.5366 - val_loss: 0.6926 - val_accuracy: 0.5226\n",
            "Epoch 17/30\n",
            "72/72 [==============================] - 7s 103ms/step - loss: 0.6922 - accuracy: 0.5366 - val_loss: 0.6926 - val_accuracy: 0.5226\n",
            "Epoch 18/30\n",
            "72/72 [==============================] - 7s 103ms/step - loss: 0.6922 - accuracy: 0.5366 - val_loss: 0.6926 - val_accuracy: 0.5226\n",
            "Epoch 19/30\n",
            "72/72 [==============================] - 7s 102ms/step - loss: 0.6922 - accuracy: 0.5366 - val_loss: 0.6926 - val_accuracy: 0.5226\n",
            "Epoch 20/30\n",
            "72/72 [==============================] - 7s 101ms/step - loss: 0.6921 - accuracy: 0.5366 - val_loss: 0.6926 - val_accuracy: 0.5226\n",
            "Epoch 21/30\n",
            "72/72 [==============================] - 7s 102ms/step - loss: 0.6921 - accuracy: 0.5366 - val_loss: 0.6925 - val_accuracy: 0.5226\n",
            "Epoch 22/30\n",
            "72/72 [==============================] - 7s 101ms/step - loss: 0.6921 - accuracy: 0.5366 - val_loss: 0.6925 - val_accuracy: 0.5226\n",
            "Epoch 23/30\n",
            "72/72 [==============================] - 7s 102ms/step - loss: 0.6920 - accuracy: 0.5366 - val_loss: 0.6925 - val_accuracy: 0.5226\n",
            "Epoch 24/30\n",
            "72/72 [==============================] - 7s 102ms/step - loss: 0.6920 - accuracy: 0.5366 - val_loss: 0.6925 - val_accuracy: 0.5226\n",
            "Epoch 25/30\n",
            "72/72 [==============================] - 7s 102ms/step - loss: 0.6920 - accuracy: 0.5366 - val_loss: 0.6925 - val_accuracy: 0.5226\n",
            "Epoch 26/30\n",
            "72/72 [==============================] - 8s 108ms/step - loss: 0.6920 - accuracy: 0.5366 - val_loss: 0.6925 - val_accuracy: 0.5226\n",
            "Epoch 27/30\n",
            "72/72 [==============================] - 7s 102ms/step - loss: 0.6919 - accuracy: 0.5366 - val_loss: 0.6925 - val_accuracy: 0.5226\n",
            "Epoch 28/30\n",
            "72/72 [==============================] - 7s 102ms/step - loss: 0.6919 - accuracy: 0.5366 - val_loss: 0.6924 - val_accuracy: 0.5226\n",
            "Epoch 29/30\n",
            "72/72 [==============================] - 7s 102ms/step - loss: 0.6919 - accuracy: 0.5366 - val_loss: 0.6924 - val_accuracy: 0.5226\n",
            "Epoch 30/30\n",
            "72/72 [==============================] - 7s 102ms/step - loss: 0.6919 - accuracy: 0.5366 - val_loss: 0.6924 - val_accuracy: 0.5226\n"
          ]
        }
      ],
      "source": [
        "sgd = SGD(learning_rate=0.0001)\n",
        "model.compile(optimizer=sgd, loss='categorical_crossentropy', metrics=['accuracy'])\n",
        "history = model.fit(train_padded, y_train, epochs=30, validation_data=(valid_padded, y_valid),batch_size=32)"
      ]
    },
    {
      "cell_type": "code",
      "execution_count": 22,
      "metadata": {
        "id": "ekNzFIS1F5Ef",
        "colab": {
          "base_uri": "https://localhost:8080/"
        },
        "outputId": "c671468e-e014-4b05-b582-0d267ca21235"
      },
      "outputs": [
        {
          "output_type": "stream",
          "name": "stdout",
          "text": [
            "              precision    recall  f1-score   support\n",
            "\n",
            "           0       0.00      0.00      0.00       598\n",
            "           1       0.51      1.00      0.68       632\n",
            "\n",
            "    accuracy                           0.51      1230\n",
            "   macro avg       0.26      0.50      0.34      1230\n",
            "weighted avg       0.26      0.51      0.35      1230\n",
            "\n"
          ]
        },
        {
          "output_type": "stream",
          "name": "stderr",
          "text": [
            "/usr/local/lib/python3.7/dist-packages/sklearn/metrics/_classification.py:1318: UndefinedMetricWarning: Precision and F-score are ill-defined and being set to 0.0 in labels with no predicted samples. Use `zero_division` parameter to control this behavior.\n",
            "  _warn_prf(average, modifier, msg_start, len(result))\n",
            "/usr/local/lib/python3.7/dist-packages/sklearn/metrics/_classification.py:1318: UndefinedMetricWarning: Precision and F-score are ill-defined and being set to 0.0 in labels with no predicted samples. Use `zero_division` parameter to control this behavior.\n",
            "  _warn_prf(average, modifier, msg_start, len(result))\n",
            "/usr/local/lib/python3.7/dist-packages/sklearn/metrics/_classification.py:1318: UndefinedMetricWarning: Precision and F-score are ill-defined and being set to 0.0 in labels with no predicted samples. Use `zero_division` parameter to control this behavior.\n",
            "  _warn_prf(average, modifier, msg_start, len(result))\n"
          ]
        }
      ],
      "source": [
        "y_prob = model.predict(test_padded)\n",
        "y_pred = np.argmax(y_prob,axis=1)\n",
        "print(classification_report(y_test_int,y_pred))"
      ]
    }
  ],
  "metadata": {
    "accelerator": "GPU",
    "colab": {
      "collapsed_sections": [],
      "provenance": [],
      "authorship_tag": "ABX9TyN9UqgokxRieZ9B35C9S2Te",
      "include_colab_link": true
    },
    "kernelspec": {
      "display_name": "Python 3",
      "name": "python3"
    },
    "language_info": {
      "name": "python"
    }
  },
  "nbformat": 4,
  "nbformat_minor": 0
}